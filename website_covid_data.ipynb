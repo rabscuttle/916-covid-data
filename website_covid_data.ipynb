{
 "cells": [
  {
   "cell_type": "code",
   "execution_count": 8,
   "metadata": {},
   "outputs": [],
   "source": [
    "# Dependencies\n",
    "import requests\n",
    "import json\n",
    "import gmaps\n",
    "import gmaps.geojson_geometries\n",
    "import gmaps.datasets\n",
    "import pandas as pd\n",
    "import numpy as np\n",
    "from matplotlib.cm import viridis\n",
    "from matplotlib.colors import to_hex\n",
    "from config import g_key\n",
    "\n",
    "# Access maps with unique API key\n",
    "gmaps.configure(api_key=g_key)"
   ]
  },
  {
   "cell_type": "code",
   "execution_count": 9,
   "metadata": {},
   "outputs": [
    {
     "data": {
      "text/html": [
       "<div>\n",
       "<style scoped>\n",
       "    .dataframe tbody tr th:only-of-type {\n",
       "        vertical-align: middle;\n",
       "    }\n",
       "\n",
       "    .dataframe tbody tr th {\n",
       "        vertical-align: top;\n",
       "    }\n",
       "\n",
       "    .dataframe thead th {\n",
       "        text-align: right;\n",
       "    }\n",
       "</style>\n",
       "<table border=\"1\" class=\"dataframe\">\n",
       "  <thead>\n",
       "    <tr style=\"text-align: right;\">\n",
       "      <th></th>\n",
       "      <th>County</th>\n",
       "      <th></th>\n",
       "    </tr>\n",
       "  </thead>\n",
       "  <tbody>\n",
       "    <tr>\n",
       "      <th>1</th>\n",
       "      <td>Anoka</td>\n",
       "      <td>15.5</td>\n",
       "    </tr>\n",
       "    <tr>\n",
       "      <th>61</th>\n",
       "      <td>Ramsey</td>\n",
       "      <td>16.5</td>\n",
       "    </tr>\n",
       "    <tr>\n",
       "      <th>81</th>\n",
       "      <td>Washington</td>\n",
       "      <td>14.9</td>\n",
       "    </tr>\n",
       "  </tbody>\n",
       "</table>\n",
       "</div>"
      ],
      "text/plain": [
       "        County      \n",
       "1        Anoka  15.5\n",
       "61      Ramsey  16.5\n",
       "81  Washington  14.9"
      ]
     },
     "execution_count": 9,
     "metadata": {},
     "output_type": "execute_result"
    }
   ],
   "source": [
    "# MN COVID-19 Data (needs to be updated weekly)\n",
    "# csv downloaded from https://www.health.state.mn.us/diseases/coronavirus/stats/wcrmap.csv\n",
    "covid_data = pd.read_csv(\"wcrmap.csv\")\n",
    "\n",
    "our_counties_df = covid_data[(covid_data['County'].isin(['Anoka','Washington','Ramsey']))]\n",
    "lastweek = our_counties_df.iloc[:, [5]]\n",
    "lastweek.columns = ['']\n",
    "twoweeks = our_counties_df.iloc[:, [4]]\n",
    "twoweeks.columns = ['']\n",
    "case_rate = lastweek.add(twoweeks, fill_value=0)\n",
    "case_rate\n",
    "counties = our_counties_df['County'].to_frame()\n",
    "case_rate_df = counties.join(case_rate, how='outer')\n",
    "case_rate_df"
   ]
  },
  {
   "cell_type": "code",
   "execution_count": 10,
   "metadata": {},
   "outputs": [],
   "source": [
    "# Find schools\n",
    "school_names = [\"Karner Blue Education Center\",\n",
    "                \"Quora Education Center\",\n",
    "                \"Bellaire Education Center\",\n",
    "                \"Cambia Hills East Bethel\",\n",
    "                \"Pankalo Education Center\",\n",
    "                \"916 Mahtomedi Academy\",\n",
    "                \"Metro Heights Academy\",\n",
    "                \"WELS North\",\n",
    "                \"WBL South Campus\",\n",
    "                \"Aris Clinic Currell\",\n",
    "                \"Aris Clinic Woodwinds\",\n",
    "                \"Career and Technical Center\"]\n",
    "\n",
    "locations = []\n",
    "\n",
    "# Loop through schools\n",
    "for school in school_names:\n",
    "    base_url = f\"https://maps.googleapis.com/maps/api/place/findplacefromtext/json?input={school}&inputtype=textquery&fields=formatted_address,name,geometry&key={g_key}\"\n",
    "    response = requests.get(base_url)\n",
    "    data = response.json()\n",
    "    lat = data['candidates'][0]['geometry']['location']['lat']\n",
    "    lng = data['candidates'][0]['geometry']['location']['lng']\n",
    "    coords = (lat, lng)\n",
    "    locations.append(coords)"
   ]
  },
  {
   "cell_type": "code",
   "execution_count": 12,
   "metadata": {},
   "outputs": [
    {
     "data": {
      "application/vnd.jupyter.widget-view+json": {
       "model_id": "eb60bfc2413f4516b3b535ed58e93557",
       "version_major": 2,
       "version_minor": 0
      },
      "text/plain": [
       "Figure(layout=FigureLayout(border='1px solid black', height='600px', margin='0 auto 0 auto', padding='1px', wi…"
      ]
     },
     "metadata": {},
     "output_type": "display_data"
    }
   ],
   "source": [
    "# Customize the size of the figure\n",
    "figure_layout = {\n",
    "    'width': '800px',\n",
    "    'height': '600px',\n",
    "    'border': '1px solid black',\n",
    "    'padding': '1px',\n",
    "    'margin': '0 auto 0 auto'\n",
    "}\n",
    "#counties_geojson = gmaps.geojson_geometries.load_geometry('us-counties')\n",
    "with open('mn_counties.json') as f:\n",
    "    geometry = json.load(f)\n",
    "\n",
    "fig = gmaps.figure(layout=figure_layout)\n",
    "\n",
    "# Assign the marker layer to a variable\n",
    "markers = gmaps.marker_layer(locations)\n",
    "# Add the layer to the map\n",
    "fig.add_layer(markers)\n",
    "gini_layer = gmaps.geojson_layer(\n",
    "    geometry,\n",
    "    fill_color=['red','green','blue']\n",
    ")\n",
    "fig.add_layer(gini_layer)\n",
    "\n",
    "fig"
   ]
  },
  {
   "cell_type": "code",
   "execution_count": null,
   "metadata": {},
   "outputs": [],
   "source": []
  }
 ],
 "metadata": {
  "kernelspec": {
   "display_name": "Python 3",
   "language": "python",
   "name": "python3"
  },
  "language_info": {
   "codemirror_mode": {
    "name": "ipython",
    "version": 3
   },
   "file_extension": ".py",
   "mimetype": "text/x-python",
   "name": "python",
   "nbconvert_exporter": "python",
   "pygments_lexer": "ipython3",
   "version": "3.6.10"
  }
 },
 "nbformat": 4,
 "nbformat_minor": 4
}
